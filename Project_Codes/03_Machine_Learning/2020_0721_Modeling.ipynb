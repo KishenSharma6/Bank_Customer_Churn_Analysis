{
 "cells": [
  {
   "cell_type": "markdown",
   "metadata": {},
   "source": [
    "**Intro**"
   ]
  },
  {
   "cell_type": "markdown",
   "metadata": {},
   "source": [
    "In the following notebook, I will be creating a churn predictor for our bank "
   ]
  },
  {
   "cell_type": "markdown",
   "metadata": {},
   "source": [
    "**Read in libraries**"
   ]
  },
  {
   "cell_type": "code",
   "execution_count": 51,
   "metadata": {},
   "outputs": [],
   "source": [
    "import pandas as pd\n",
    "import numpy as np\n",
    "import matplotlib.pyplot as plt"
   ]
  },
  {
   "cell_type": "markdown",
   "metadata": {},
   "source": [
    "**Set Notebook Preferences**"
   ]
  },
  {
   "cell_type": "code",
   "execution_count": 52,
   "metadata": {},
   "outputs": [],
   "source": [
    "#Set plot style\n",
    "plt.style.use('Solarize_Light2')\n",
    "\n",
    "#Set path to draw_data\n",
    "path = r'C:\\Users\\kishe\\Documents\\Data Science\\Projects\\Python Projects\\In Progress\\Bank Churn Analysis\\Data\\02_Cleaned_Data'"
   ]
  },
  {
   "cell_type": "markdown",
   "metadata": {},
   "source": [
    "**Read in data**"
   ]
  },
  {
   "cell_type": "code",
   "execution_count": 53,
   "metadata": {},
   "outputs": [],
   "source": [
    "df = pd.read_csv(path + '/2020_0720_Cleaned_Churn_Date.csv', index_col=0)"
   ]
  },
  {
   "cell_type": "markdown",
   "metadata": {},
   "source": [
    "## Data Overview"
   ]
  },
  {
   "cell_type": "markdown",
   "metadata": {},
   "source": [
    "**Preview data**"
   ]
  },
  {
   "cell_type": "code",
   "execution_count": 54,
   "metadata": {},
   "outputs": [
    {
     "name": "stdout",
     "output_type": "stream",
     "text": [
      "Data shape: (10000, 11)\n"
     ]
    },
    {
     "data": {
      "text/html": [
       "<div>\n",
       "<style scoped>\n",
       "    .dataframe tbody tr th:only-of-type {\n",
       "        vertical-align: middle;\n",
       "    }\n",
       "\n",
       "    .dataframe tbody tr th {\n",
       "        vertical-align: top;\n",
       "    }\n",
       "\n",
       "    .dataframe thead th {\n",
       "        text-align: right;\n",
       "    }\n",
       "</style>\n",
       "<table border=\"1\" class=\"dataframe\">\n",
       "  <thead>\n",
       "    <tr style=\"text-align: right;\">\n",
       "      <th></th>\n",
       "      <th>creditscore</th>\n",
       "      <th>geography</th>\n",
       "      <th>gender</th>\n",
       "      <th>age</th>\n",
       "      <th>tenure</th>\n",
       "      <th>balance</th>\n",
       "      <th>numofproducts</th>\n",
       "      <th>hascrcard</th>\n",
       "      <th>isactivemember</th>\n",
       "      <th>estimatedsalary</th>\n",
       "      <th>exited</th>\n",
       "    </tr>\n",
       "  </thead>\n",
       "  <tbody>\n",
       "    <tr>\n",
       "      <th>0</th>\n",
       "      <td>619</td>\n",
       "      <td>France</td>\n",
       "      <td>0</td>\n",
       "      <td>42</td>\n",
       "      <td>2</td>\n",
       "      <td>0.00</td>\n",
       "      <td>1</td>\n",
       "      <td>1</td>\n",
       "      <td>1</td>\n",
       "      <td>101348.88</td>\n",
       "      <td>1</td>\n",
       "    </tr>\n",
       "    <tr>\n",
       "      <th>1</th>\n",
       "      <td>608</td>\n",
       "      <td>Spain</td>\n",
       "      <td>0</td>\n",
       "      <td>41</td>\n",
       "      <td>1</td>\n",
       "      <td>83807.86</td>\n",
       "      <td>1</td>\n",
       "      <td>0</td>\n",
       "      <td>1</td>\n",
       "      <td>112542.58</td>\n",
       "      <td>0</td>\n",
       "    </tr>\n",
       "    <tr>\n",
       "      <th>2</th>\n",
       "      <td>502</td>\n",
       "      <td>France</td>\n",
       "      <td>0</td>\n",
       "      <td>42</td>\n",
       "      <td>8</td>\n",
       "      <td>159660.80</td>\n",
       "      <td>3</td>\n",
       "      <td>1</td>\n",
       "      <td>0</td>\n",
       "      <td>113931.57</td>\n",
       "      <td>1</td>\n",
       "    </tr>\n",
       "    <tr>\n",
       "      <th>3</th>\n",
       "      <td>699</td>\n",
       "      <td>France</td>\n",
       "      <td>0</td>\n",
       "      <td>39</td>\n",
       "      <td>1</td>\n",
       "      <td>0.00</td>\n",
       "      <td>2</td>\n",
       "      <td>0</td>\n",
       "      <td>0</td>\n",
       "      <td>93826.63</td>\n",
       "      <td>0</td>\n",
       "    </tr>\n",
       "    <tr>\n",
       "      <th>4</th>\n",
       "      <td>850</td>\n",
       "      <td>Spain</td>\n",
       "      <td>0</td>\n",
       "      <td>43</td>\n",
       "      <td>2</td>\n",
       "      <td>125510.82</td>\n",
       "      <td>1</td>\n",
       "      <td>1</td>\n",
       "      <td>1</td>\n",
       "      <td>79084.10</td>\n",
       "      <td>0</td>\n",
       "    </tr>\n",
       "  </tbody>\n",
       "</table>\n",
       "</div>"
      ],
      "text/plain": [
       "   creditscore geography  gender  age  tenure    balance  numofproducts  \\\n",
       "0          619    France       0   42       2       0.00              1   \n",
       "1          608     Spain       0   41       1   83807.86              1   \n",
       "2          502    France       0   42       8  159660.80              3   \n",
       "3          699    France       0   39       1       0.00              2   \n",
       "4          850     Spain       0   43       2  125510.82              1   \n",
       "\n",
       "   hascrcard  isactivemember  estimatedsalary  exited  \n",
       "0          1               1        101348.88       1  \n",
       "1          0               1        112542.58       0  \n",
       "2          1               0        113931.57       1  \n",
       "3          0               0         93826.63       0  \n",
       "4          1               1         79084.10       0  "
      ]
     },
     "metadata": {},
     "output_type": "display_data"
    }
   ],
   "source": [
    "#Display data shape and head\n",
    "print('Data shape:', df.shape)\n",
    "display(df.head())\n"
   ]
  },
  {
   "cell_type": "markdown",
   "metadata": {},
   "source": [
    "**About the data - Info**"
   ]
  },
  {
   "cell_type": "code",
   "execution_count": 55,
   "metadata": {},
   "outputs": [
    {
     "name": "stdout",
     "output_type": "stream",
     "text": [
      "<class 'pandas.core.frame.DataFrame'>\n",
      "Int64Index: 10000 entries, 0 to 9999\n",
      "Data columns (total 11 columns):\n",
      " #   Column           Non-Null Count  Dtype  \n",
      "---  ------           --------------  -----  \n",
      " 0   creditscore      10000 non-null  int64  \n",
      " 1   geography        10000 non-null  object \n",
      " 2   gender           10000 non-null  int64  \n",
      " 3   age              10000 non-null  int64  \n",
      " 4   tenure           10000 non-null  int64  \n",
      " 5   balance          10000 non-null  float64\n",
      " 6   numofproducts    10000 non-null  int64  \n",
      " 7   hascrcard        10000 non-null  int64  \n",
      " 8   isactivemember   10000 non-null  int64  \n",
      " 9   estimatedsalary  10000 non-null  float64\n",
      " 10  exited           10000 non-null  int64  \n",
      "dtypes: float64(2), int64(8), object(1)\n",
      "memory usage: 937.5+ KB\n"
     ]
    }
   ],
   "source": [
    "df.info()"
   ]
  },
  {
   "cell_type": "markdown",
   "metadata": {},
   "source": [
    "**About the data - Description Statistics**"
   ]
  },
  {
   "cell_type": "code",
   "execution_count": 56,
   "metadata": {},
   "outputs": [
    {
     "data": {
      "text/html": [
       "<div>\n",
       "<style scoped>\n",
       "    .dataframe tbody tr th:only-of-type {\n",
       "        vertical-align: middle;\n",
       "    }\n",
       "\n",
       "    .dataframe tbody tr th {\n",
       "        vertical-align: top;\n",
       "    }\n",
       "\n",
       "    .dataframe thead th {\n",
       "        text-align: right;\n",
       "    }\n",
       "</style>\n",
       "<table border=\"1\" class=\"dataframe\">\n",
       "  <thead>\n",
       "    <tr style=\"text-align: right;\">\n",
       "      <th></th>\n",
       "      <th>creditscore</th>\n",
       "      <th>gender</th>\n",
       "      <th>age</th>\n",
       "      <th>tenure</th>\n",
       "      <th>balance</th>\n",
       "      <th>numofproducts</th>\n",
       "      <th>hascrcard</th>\n",
       "      <th>isactivemember</th>\n",
       "      <th>estimatedsalary</th>\n",
       "      <th>exited</th>\n",
       "    </tr>\n",
       "  </thead>\n",
       "  <tbody>\n",
       "    <tr>\n",
       "      <th>count</th>\n",
       "      <td>10000.000000</td>\n",
       "      <td>10000.000000</td>\n",
       "      <td>10000.000000</td>\n",
       "      <td>10000.000000</td>\n",
       "      <td>10000.000000</td>\n",
       "      <td>10000.000000</td>\n",
       "      <td>10000.00000</td>\n",
       "      <td>10000.000000</td>\n",
       "      <td>10000.000000</td>\n",
       "      <td>10000.000000</td>\n",
       "    </tr>\n",
       "    <tr>\n",
       "      <th>mean</th>\n",
       "      <td>650.528800</td>\n",
       "      <td>0.545700</td>\n",
       "      <td>38.921800</td>\n",
       "      <td>5.012800</td>\n",
       "      <td>76485.889288</td>\n",
       "      <td>1.530200</td>\n",
       "      <td>0.70550</td>\n",
       "      <td>0.515100</td>\n",
       "      <td>100090.239881</td>\n",
       "      <td>0.203700</td>\n",
       "    </tr>\n",
       "    <tr>\n",
       "      <th>std</th>\n",
       "      <td>96.653299</td>\n",
       "      <td>0.497932</td>\n",
       "      <td>10.487806</td>\n",
       "      <td>2.892174</td>\n",
       "      <td>62397.405202</td>\n",
       "      <td>0.581654</td>\n",
       "      <td>0.45584</td>\n",
       "      <td>0.499797</td>\n",
       "      <td>57510.492818</td>\n",
       "      <td>0.402769</td>\n",
       "    </tr>\n",
       "    <tr>\n",
       "      <th>min</th>\n",
       "      <td>350.000000</td>\n",
       "      <td>0.000000</td>\n",
       "      <td>18.000000</td>\n",
       "      <td>0.000000</td>\n",
       "      <td>0.000000</td>\n",
       "      <td>1.000000</td>\n",
       "      <td>0.00000</td>\n",
       "      <td>0.000000</td>\n",
       "      <td>11.580000</td>\n",
       "      <td>0.000000</td>\n",
       "    </tr>\n",
       "    <tr>\n",
       "      <th>25%</th>\n",
       "      <td>584.000000</td>\n",
       "      <td>0.000000</td>\n",
       "      <td>32.000000</td>\n",
       "      <td>3.000000</td>\n",
       "      <td>0.000000</td>\n",
       "      <td>1.000000</td>\n",
       "      <td>0.00000</td>\n",
       "      <td>0.000000</td>\n",
       "      <td>51002.110000</td>\n",
       "      <td>0.000000</td>\n",
       "    </tr>\n",
       "    <tr>\n",
       "      <th>50%</th>\n",
       "      <td>652.000000</td>\n",
       "      <td>1.000000</td>\n",
       "      <td>37.000000</td>\n",
       "      <td>5.000000</td>\n",
       "      <td>97198.540000</td>\n",
       "      <td>1.000000</td>\n",
       "      <td>1.00000</td>\n",
       "      <td>1.000000</td>\n",
       "      <td>100193.915000</td>\n",
       "      <td>0.000000</td>\n",
       "    </tr>\n",
       "    <tr>\n",
       "      <th>75%</th>\n",
       "      <td>718.000000</td>\n",
       "      <td>1.000000</td>\n",
       "      <td>44.000000</td>\n",
       "      <td>7.000000</td>\n",
       "      <td>127644.240000</td>\n",
       "      <td>2.000000</td>\n",
       "      <td>1.00000</td>\n",
       "      <td>1.000000</td>\n",
       "      <td>149388.247500</td>\n",
       "      <td>0.000000</td>\n",
       "    </tr>\n",
       "    <tr>\n",
       "      <th>max</th>\n",
       "      <td>850.000000</td>\n",
       "      <td>1.000000</td>\n",
       "      <td>92.000000</td>\n",
       "      <td>10.000000</td>\n",
       "      <td>250898.090000</td>\n",
       "      <td>4.000000</td>\n",
       "      <td>1.00000</td>\n",
       "      <td>1.000000</td>\n",
       "      <td>199992.480000</td>\n",
       "      <td>1.000000</td>\n",
       "    </tr>\n",
       "  </tbody>\n",
       "</table>\n",
       "</div>"
      ],
      "text/plain": [
       "        creditscore        gender           age        tenure        balance  \\\n",
       "count  10000.000000  10000.000000  10000.000000  10000.000000   10000.000000   \n",
       "mean     650.528800      0.545700     38.921800      5.012800   76485.889288   \n",
       "std       96.653299      0.497932     10.487806      2.892174   62397.405202   \n",
       "min      350.000000      0.000000     18.000000      0.000000       0.000000   \n",
       "25%      584.000000      0.000000     32.000000      3.000000       0.000000   \n",
       "50%      652.000000      1.000000     37.000000      5.000000   97198.540000   \n",
       "75%      718.000000      1.000000     44.000000      7.000000  127644.240000   \n",
       "max      850.000000      1.000000     92.000000     10.000000  250898.090000   \n",
       "\n",
       "       numofproducts    hascrcard  isactivemember  estimatedsalary  \\\n",
       "count   10000.000000  10000.00000    10000.000000     10000.000000   \n",
       "mean        1.530200      0.70550        0.515100    100090.239881   \n",
       "std         0.581654      0.45584        0.499797     57510.492818   \n",
       "min         1.000000      0.00000        0.000000        11.580000   \n",
       "25%         1.000000      0.00000        0.000000     51002.110000   \n",
       "50%         1.000000      1.00000        1.000000    100193.915000   \n",
       "75%         2.000000      1.00000        1.000000    149388.247500   \n",
       "max         4.000000      1.00000        1.000000    199992.480000   \n",
       "\n",
       "             exited  \n",
       "count  10000.000000  \n",
       "mean       0.203700  \n",
       "std        0.402769  \n",
       "min        0.000000  \n",
       "25%        0.000000  \n",
       "50%        0.000000  \n",
       "75%        0.000000  \n",
       "max        1.000000  "
      ]
     },
     "execution_count": 56,
     "metadata": {},
     "output_type": "execute_result"
    }
   ],
   "source": [
    "df.describe()"
   ]
  },
  {
   "cell_type": "markdown",
   "metadata": {},
   "source": [
    "# Machine Learning"
   ]
  },
  {
   "cell_type": "markdown",
   "metadata": {},
   "source": [
    "## Prepare data"
   ]
  },
  {
   "cell_type": "markdown",
   "metadata": {},
   "source": [
    "**Split data**"
   ]
  },
  {
   "cell_type": "code",
   "execution_count": 57,
   "metadata": {},
   "outputs": [
    {
     "name": "stdout",
     "output_type": "stream",
     "text": [
      "Training data shape:(8000, 10) Label shape:(8000,)\n",
      "Test data shape:(2000, 10) Label shape:(2000,)\n"
     ]
    }
   ],
   "source": [
    "#Read in library\n",
    "from sklearn.model_selection import train_test_split\n",
    "\n",
    "#Seperate train/test data from target\n",
    "X = df.drop('exited', axis = 1)\n",
    "y = df.exited.values\n",
    "\n",
    "#Split into training and test data\n",
    "X_train, X_test, y_train, y_test = train_test_split(X, y, random_state = 42, test_size =0.2, shuffle = False )\n",
    "\n",
    "#Check\n",
    "print('Training data shape:{} Label shape:{}'.format(X_train.shape, y_train.shape))\n",
    "print('Test data shape:{} Label shape:{}'.format(X_test.shape, y_test.shape))"
   ]
  },
  {
   "cell_type": "markdown",
   "metadata": {},
   "source": [
    "## Develop Preprocessing Pipeline"
   ]
  },
  {
   "cell_type": "code",
   "execution_count": 58,
   "metadata": {},
   "outputs": [],
   "source": [
    "#Read in libraries\n",
    "from sklearn.pipeline import Pipeline\n",
    "from sklearn.compose import ColumnTransformer\n",
    "from sklearn.preprocessing import OneHotEncoder, MinMaxScaler\n",
    "from sklearn.model_selection import cross_val_predict\n",
    "\n",
    "#Get names of numeric/categorical features\n",
    "num_features = X_train.select_dtypes(include = ['int64', 'float64']).columns\n",
    "cat_features = X_train.select_dtypes(include = ['object']).columns\n",
    "\n",
    "#Init steps for column transformera\n",
    "num_transformer = Pipeline([('scaler', MinMaxScaler())])\n",
    "cat_transformer = Pipeline([('onehot', OneHotEncoder(handle_unknown='ignore'))])\n",
    "\n",
    "#Build preprecessor\n",
    "preprocessor = ColumnTransformer(transformers=[('numerics', num_transformer, num_features),\n",
    "                                              ('categoricals', cat_transformer, cat_features)],\n",
    "                                n_jobs=-1)\n",
    "\n",
    "#Build initial pipeline\n",
    "classifier = Pipeline([('Preprocessor', preprocessor)])"
   ]
  },
  {
   "cell_type": "markdown",
   "metadata": {},
   "source": [
    "## Build Base Model - Naive Bayes Classifier"
   ]
  },
  {
   "cell_type": "markdown",
   "metadata": {},
   "source": [
    "**Build base model and get predictions**"
   ]
  },
  {
   "cell_type": "code",
   "execution_count": 59,
   "metadata": {},
   "outputs": [],
   "source": [
    "#Import naive bayes\n",
    "from sklearn.naive_bayes import GaussianNB\n",
    "\n",
    "#Append GaussianNB to pipeline\n",
    "classifier.steps.append(['model', GaussianNB()])\n",
    "\n",
    "#Get predictions on training data\n",
    "predictions = cross_val_predict(classifier, X_train, y_train,  n_jobs=-1)"
   ]
  },
  {
   "cell_type": "markdown",
   "metadata": {},
   "source": [
    "**Evaluate base model**"
   ]
  },
  {
   "cell_type": "code",
   "execution_count": 60,
   "metadata": {},
   "outputs": [
    {
     "name": "stdout",
     "output_type": "stream",
     "text": [
      "Naive Bayes Classification Report: \n",
      "               precision    recall  f1-score   support\n",
      "\n",
      "           0       0.85      0.94      0.89      6353\n",
      "           1       0.60      0.37      0.46      1647\n",
      "\n",
      "    accuracy                           0.82      8000\n",
      "   macro avg       0.73      0.65      0.68      8000\n",
      "weighted avg       0.80      0.82      0.80      8000\n",
      "\n"
     ]
    }
   ],
   "source": [
    "#Import classification report\n",
    "from sklearn.metrics import classification_report\n",
    "\n",
    "#Evaluate\n",
    "print('Naive Bayes Classification Report: \\n',classification_report(y_train, predictions))"
   ]
  },
  {
   "cell_type": "markdown",
   "metadata": {},
   "source": [
    "## Model Selection\n",
    "\n",
    "Evaluate a series of additional models to later tune into final classifier.\n",
    "\n",
    "Goal is to optimize recall, we do not want to mislabel people that will probably be leaving so we have a chance to intervene and keep them."
   ]
  },
  {
   "cell_type": "code",
   "execution_count": 61,
   "metadata": {},
   "outputs": [],
   "source": [
    "#Read in classifiers\n",
    "from sklearn.neighbors import KNeighborsClassifier\n",
    "from sklearn.linear_model import LogisticRegression\n",
    "from sklearn.tree import DecisionTreeClassifier\n",
    "from sklearn.ensemble import RandomForestClassifier\n",
    "\n",
    "#Init classifiers\n",
    "classifiers = [KNeighborsClassifier(n_jobs=-1),\n",
    "LogisticRegression(n_jobs=-1),\n",
    "DecisionTreeClassifier(max_depth=10),\n",
    "RandomForestClassifier(max_depth=10, n_jobs=-1)]\n",
    "\n",
    "#Init model names\n",
    "names= ['KNeighborsClassifier',\n",
    "        'LogisticRegression',\n",
    "'DecisionTreeClassifier',\n",
    "'RandomForestClassifier'\n",
    "    ]"
   ]
  },
  {
   "cell_type": "code",
   "execution_count": 62,
   "metadata": {},
   "outputs": [
    {
     "name": "stdout",
     "output_type": "stream",
     "text": [
      "KNeighborsClassifier Classification Report:\n",
      "               precision    recall  f1-score   support\n",
      "\n",
      "           0       0.84      0.95      0.89      6353\n",
      "           1       0.60      0.32      0.41      1647\n",
      "\n",
      "    accuracy                           0.82      8000\n",
      "   macro avg       0.72      0.63      0.65      8000\n",
      "weighted avg       0.79      0.82      0.79      8000\n",
      "\n",
      "===================================================\n",
      "LogisticRegression Classification Report:\n",
      "               precision    recall  f1-score   support\n",
      "\n",
      "           0       0.83      0.96      0.89      6353\n",
      "           1       0.61      0.22      0.32      1647\n",
      "\n",
      "    accuracy                           0.81      8000\n",
      "   macro avg       0.72      0.59      0.60      8000\n",
      "weighted avg       0.78      0.81      0.77      8000\n",
      "\n",
      "===================================================\n",
      "DecisionTreeClassifier Classification Report:\n",
      "               precision    recall  f1-score   support\n",
      "\n",
      "           0       0.87      0.93      0.90      6353\n",
      "           1       0.64      0.48      0.55      1647\n",
      "\n",
      "    accuracy                           0.84      8000\n",
      "   macro avg       0.76      0.70      0.72      8000\n",
      "weighted avg       0.82      0.84      0.83      8000\n",
      "\n",
      "===================================================\n",
      "RandomForestClassifier Classification Report:\n",
      "               precision    recall  f1-score   support\n",
      "\n",
      "           0       0.87      0.97      0.92      6353\n",
      "           1       0.80      0.45      0.57      1647\n",
      "\n",
      "    accuracy                           0.86      8000\n",
      "   macro avg       0.84      0.71      0.75      8000\n",
      "weighted avg       0.86      0.86      0.85      8000\n",
      "\n",
      "===================================================\n"
     ]
    }
   ],
   "source": [
    "#Write a for-loop that fits each model to the data and evaluated recall\n",
    "for name, model in zip(names, classifiers):\n",
    "    classifier.steps.pop(1) #Delete last step of pipe\n",
    "    classifier.steps.append([name,model]) # append new step of pipe\n",
    "    predictions = cross_val_predict(classifier, X_train, y_train, n_jobs=-1, cv = 5,)\n",
    "    print('{} Classification Report:\\n'.format(name), classification_report(y_train, predictions))\n",
    "    print('===================================================')"
   ]
  },
  {
   "cell_type": "markdown",
   "metadata": {},
   "source": [
    "## Tune RandomForest Classifier"
   ]
  },
  {
   "cell_type": "markdown",
   "metadata": {},
   "source": [
    "**Tune with GridSearchCV**"
   ]
  },
  {
   "cell_type": "code",
   "execution_count": 64,
   "metadata": {},
   "outputs": [
    {
     "name": "stdout",
     "output_type": "stream",
     "text": [
      "Params for RandomForestClassifier:\n",
      " {'bootstrap': True, 'ccp_alpha': 0.0, 'class_weight': None, 'criterion': 'gini', 'max_depth': None, 'max_features': 'auto', 'max_leaf_nodes': None, 'max_samples': None, 'min_impurity_decrease': 0.0, 'min_impurity_split': None, 'min_samples_leaf': 1, 'min_samples_split': 2, 'min_weight_fraction_leaf': 0.0, 'n_estimators': 100, 'n_jobs': None, 'oob_score': False, 'random_state': None, 'verbose': 0, 'warm_start': False}\n"
     ]
    }
   ],
   "source": [
    "#Import libraries\n",
    "from sklearn.model_selection import GridSearchCV\n",
    "from sklearn.metrics import recall_score, make_scorer\n",
    "\n",
    "#Get params from random forest\n",
    "print('Params for RandomForestClassifier:\\n',RandomForestClassifier().get_params())\n",
    "\n",
    "#Set params to test over for gridsearchCV\n",
    "params = {'model__random_state': [24],\n",
    "          'model__n_jobs': [-1],\n",
    "            'model__n_estimators': [100,150, 200],\n",
    "           'model__min_samples_leaf': [1,3,5],\n",
    "           'model__max_features':['auto', 'sqrt', 'log2']\n",
    "          }\n",
    "\n",
    "#Create scorer to optimize recall\n",
    "scorer = {'recall_score': make_scorer(recall_score)}\n",
    "\n",
    "#Update classifier\n",
    "classifier.steps.pop(1) #Delete last step of pipe\n",
    "classifier.steps.append(['model',RandomForestClassifier()]) #Append nRandomForestClassifier"
   ]
  },
  {
   "cell_type": "code",
   "execution_count": 65,
   "metadata": {},
   "outputs": [
    {
     "data": {
      "text/plain": [
       "GridSearchCV(cv=5,\n",
       "             estimator=Pipeline(steps=[('Preprocessor',\n",
       "                                        ColumnTransformer(n_jobs=-1,\n",
       "                                                          transformers=[('numerics',\n",
       "                                                                         Pipeline(steps=[('scaler',\n",
       "                                                                                          MinMaxScaler())]),\n",
       "                                                                         Index(['creditscore', 'gender', 'age', 'tenure', 'balance', 'numofproducts',\n",
       "       'hascrcard', 'isactivemember', 'estimatedsalary'],\n",
       "      dtype='object')),\n",
       "                                                                        ('categoricals',\n",
       "                                                                         Pipeline(steps=[('onehot',\n",
       "                                                                                          OneHotEncoder(...n='ignore'))]),\n",
       "                                                                         Index(['geography'], dtype='object'))])),\n",
       "                                       ['model', RandomForestClassifier()]]),\n",
       "             n_jobs=-1,\n",
       "             param_grid={'model__max_features': ['auto', 'sqrt', 'log2'],\n",
       "                         'model__min_samples_leaf': [1, 3, 5],\n",
       "                         'model__n_estimators': [100, 150, 200],\n",
       "                         'model__n_jobs': [-1], 'model__random_state': [24]},\n",
       "             refit='recall_score',\n",
       "             scoring={'recall_score': make_scorer(recall_score)})"
      ]
     },
     "execution_count": 65,
     "metadata": {},
     "output_type": "execute_result"
    }
   ],
   "source": [
    "clf = GridSearchCV(classifier, param_grid=params, n_jobs=-1, cv=5, scoring=scorer, refit='recall_score')\n",
    "clf.fit(X_train, y_train)"
   ]
  },
  {
   "cell_type": "code",
   "execution_count": 72,
   "metadata": {},
   "outputs": [
    {
     "data": {
      "text/html": [
       "<div>\n",
       "<style scoped>\n",
       "    .dataframe tbody tr th:only-of-type {\n",
       "        vertical-align: middle;\n",
       "    }\n",
       "\n",
       "    .dataframe tbody tr th {\n",
       "        vertical-align: top;\n",
       "    }\n",
       "\n",
       "    .dataframe thead th {\n",
       "        text-align: right;\n",
       "    }\n",
       "</style>\n",
       "<table border=\"1\" class=\"dataframe\">\n",
       "  <thead>\n",
       "    <tr style=\"text-align: right;\">\n",
       "      <th></th>\n",
       "      <th>mean_fit_time</th>\n",
       "      <th>std_fit_time</th>\n",
       "      <th>mean_score_time</th>\n",
       "      <th>std_score_time</th>\n",
       "      <th>param_model__max_features</th>\n",
       "      <th>param_model__min_samples_leaf</th>\n",
       "      <th>param_model__n_estimators</th>\n",
       "      <th>param_model__n_jobs</th>\n",
       "      <th>param_model__random_state</th>\n",
       "      <th>params</th>\n",
       "      <th>split0_test_recall_score</th>\n",
       "      <th>split1_test_recall_score</th>\n",
       "      <th>split2_test_recall_score</th>\n",
       "      <th>split3_test_recall_score</th>\n",
       "      <th>split4_test_recall_score</th>\n",
       "      <th>mean_test_recall_score</th>\n",
       "      <th>std_test_recall_score</th>\n",
       "      <th>rank_test_recall_score</th>\n",
       "    </tr>\n",
       "  </thead>\n",
       "  <tbody>\n",
       "    <tr>\n",
       "      <th>16</th>\n",
       "      <td>1.213465</td>\n",
       "      <td>0.124524</td>\n",
       "      <td>0.314541</td>\n",
       "      <td>0.133527</td>\n",
       "      <td>sqrt</td>\n",
       "      <td>5</td>\n",
       "      <td>150</td>\n",
       "      <td>-1</td>\n",
       "      <td>24</td>\n",
       "      <td>{'model__max_features': 'sqrt', 'model__min_sa...</td>\n",
       "      <td>0.439394</td>\n",
       "      <td>0.460606</td>\n",
       "      <td>0.462006</td>\n",
       "      <td>0.428571</td>\n",
       "      <td>0.486322</td>\n",
       "      <td>0.455380</td>\n",
       "      <td>0.020014</td>\n",
       "      <td>25</td>\n",
       "    </tr>\n",
       "    <tr>\n",
       "      <th>25</th>\n",
       "      <td>1.197370</td>\n",
       "      <td>0.245992</td>\n",
       "      <td>0.499478</td>\n",
       "      <td>0.210281</td>\n",
       "      <td>log2</td>\n",
       "      <td>5</td>\n",
       "      <td>150</td>\n",
       "      <td>-1</td>\n",
       "      <td>24</td>\n",
       "      <td>{'model__max_features': 'log2', 'model__min_sa...</td>\n",
       "      <td>0.439394</td>\n",
       "      <td>0.460606</td>\n",
       "      <td>0.462006</td>\n",
       "      <td>0.428571</td>\n",
       "      <td>0.486322</td>\n",
       "      <td>0.455380</td>\n",
       "      <td>0.020014</td>\n",
       "      <td>25</td>\n",
       "    </tr>\n",
       "    <tr>\n",
       "      <th>7</th>\n",
       "      <td>1.102738</td>\n",
       "      <td>0.115969</td>\n",
       "      <td>0.421025</td>\n",
       "      <td>0.198943</td>\n",
       "      <td>auto</td>\n",
       "      <td>5</td>\n",
       "      <td>150</td>\n",
       "      <td>-1</td>\n",
       "      <td>24</td>\n",
       "      <td>{'model__max_features': 'auto', 'model__min_sa...</td>\n",
       "      <td>0.439394</td>\n",
       "      <td>0.460606</td>\n",
       "      <td>0.462006</td>\n",
       "      <td>0.428571</td>\n",
       "      <td>0.486322</td>\n",
       "      <td>0.455380</td>\n",
       "      <td>0.020014</td>\n",
       "      <td>25</td>\n",
       "    </tr>\n",
       "    <tr>\n",
       "      <th>26</th>\n",
       "      <td>1.705456</td>\n",
       "      <td>0.255240</td>\n",
       "      <td>0.410708</td>\n",
       "      <td>0.127902</td>\n",
       "      <td>log2</td>\n",
       "      <td>5</td>\n",
       "      <td>200</td>\n",
       "      <td>-1</td>\n",
       "      <td>24</td>\n",
       "      <td>{'model__max_features': 'log2', 'model__min_sa...</td>\n",
       "      <td>0.436364</td>\n",
       "      <td>0.466667</td>\n",
       "      <td>0.468085</td>\n",
       "      <td>0.431611</td>\n",
       "      <td>0.480243</td>\n",
       "      <td>0.456594</td>\n",
       "      <td>0.019111</td>\n",
       "      <td>22</td>\n",
       "    </tr>\n",
       "    <tr>\n",
       "      <th>17</th>\n",
       "      <td>1.692440</td>\n",
       "      <td>0.161416</td>\n",
       "      <td>0.448511</td>\n",
       "      <td>0.140373</td>\n",
       "      <td>sqrt</td>\n",
       "      <td>5</td>\n",
       "      <td>200</td>\n",
       "      <td>-1</td>\n",
       "      <td>24</td>\n",
       "      <td>{'model__max_features': 'sqrt', 'model__min_sa...</td>\n",
       "      <td>0.436364</td>\n",
       "      <td>0.466667</td>\n",
       "      <td>0.468085</td>\n",
       "      <td>0.431611</td>\n",
       "      <td>0.480243</td>\n",
       "      <td>0.456594</td>\n",
       "      <td>0.019111</td>\n",
       "      <td>22</td>\n",
       "    </tr>\n",
       "  </tbody>\n",
       "</table>\n",
       "</div>"
      ],
      "text/plain": [
       "    mean_fit_time  std_fit_time  mean_score_time  std_score_time  \\\n",
       "16       1.213465      0.124524         0.314541        0.133527   \n",
       "25       1.197370      0.245992         0.499478        0.210281   \n",
       "7        1.102738      0.115969         0.421025        0.198943   \n",
       "26       1.705456      0.255240         0.410708        0.127902   \n",
       "17       1.692440      0.161416         0.448511        0.140373   \n",
       "\n",
       "   param_model__max_features param_model__min_samples_leaf  \\\n",
       "16                      sqrt                             5   \n",
       "25                      log2                             5   \n",
       "7                       auto                             5   \n",
       "26                      log2                             5   \n",
       "17                      sqrt                             5   \n",
       "\n",
       "   param_model__n_estimators param_model__n_jobs param_model__random_state  \\\n",
       "16                       150                  -1                        24   \n",
       "25                       150                  -1                        24   \n",
       "7                        150                  -1                        24   \n",
       "26                       200                  -1                        24   \n",
       "17                       200                  -1                        24   \n",
       "\n",
       "                                               params  \\\n",
       "16  {'model__max_features': 'sqrt', 'model__min_sa...   \n",
       "25  {'model__max_features': 'log2', 'model__min_sa...   \n",
       "7   {'model__max_features': 'auto', 'model__min_sa...   \n",
       "26  {'model__max_features': 'log2', 'model__min_sa...   \n",
       "17  {'model__max_features': 'sqrt', 'model__min_sa...   \n",
       "\n",
       "    split0_test_recall_score  split1_test_recall_score  \\\n",
       "16                  0.439394                  0.460606   \n",
       "25                  0.439394                  0.460606   \n",
       "7                   0.439394                  0.460606   \n",
       "26                  0.436364                  0.466667   \n",
       "17                  0.436364                  0.466667   \n",
       "\n",
       "    split2_test_recall_score  split3_test_recall_score  \\\n",
       "16                  0.462006                  0.428571   \n",
       "25                  0.462006                  0.428571   \n",
       "7                   0.462006                  0.428571   \n",
       "26                  0.468085                  0.431611   \n",
       "17                  0.468085                  0.431611   \n",
       "\n",
       "    split4_test_recall_score  mean_test_recall_score  std_test_recall_score  \\\n",
       "16                  0.486322                0.455380               0.020014   \n",
       "25                  0.486322                0.455380               0.020014   \n",
       "7                   0.486322                0.455380               0.020014   \n",
       "26                  0.480243                0.456594               0.019111   \n",
       "17                  0.480243                0.456594               0.019111   \n",
       "\n",
       "    rank_test_recall_score  \n",
       "16                      25  \n",
       "25                      25  \n",
       "7                       25  \n",
       "26                      22  \n",
       "17                      22  "
      ]
     },
     "execution_count": 72,
     "metadata": {},
     "output_type": "execute_result"
    }
   ],
   "source": [
    "grid_results = pd.DataFrame(clf.cv_results_)\n",
    "grid_results.sort_values(by = 'mean_test_recall_score', inplace=True)\n",
    "grid_results.head()"
   ]
  },
  {
   "cell_type": "code",
   "execution_count": 70,
   "metadata": {},
   "outputs": [
    {
     "data": {
      "text/plain": [
       "{'model__max_features': 'auto',\n",
       " 'model__min_samples_leaf': 1,\n",
       " 'model__n_estimators': 200,\n",
       " 'model__n_jobs': -1,\n",
       " 'model__random_state': 24}"
      ]
     },
     "execution_count": 70,
     "metadata": {},
     "output_type": "execute_result"
    }
   ],
   "source": [
    "clf.best_estimator_\n",
    "clf.best_score_\n",
    "clf.best_params_"
   ]
  },
  {
   "cell_type": "markdown",
   "metadata": {},
   "source": [
    "**Plot precision recall Curve to determine threshold for classifier**"
   ]
  },
  {
   "cell_type": "code",
   "execution_count": 66,
   "metadata": {},
   "outputs": [],
   "source": [
    "# #Read in libraries\n",
    "# from sklearn.metrics import precision_recall_curve, plot_precision_recall_curve, roc_auc_score, plot_roc_curve\n",
    "\n",
    "# predictions = cross_val_predict(classifier, X_train, y_train, n_jobs=-1, cv = 5,)"
   ]
  },
  {
   "cell_type": "code",
   "execution_count": 67,
   "metadata": {},
   "outputs": [],
   "source": [
    "# #Create figure\n",
    "# f, ax = plt.subplots(1,2, figsize = (15,7))\n",
    "\n",
    "# #Fit base classifier to training data\n",
    "# classifier.fit(X_train, y_train)\n",
    "\n",
    "# #PLot precision_recal curve\n",
    "# plot_precision_recall_curve(classifier, X_train, y_train, ax= ax[0])\n",
    "# plot_roc_curve(classifier, X_train, y_train, ax= ax[1])\n",
    "# ax[1].plot([0, 1], [0, 1], color='navy',  linestyle='--')\n",
    "\n",
    "# #Set plot aesthetics\n",
    "# #ax.title"
   ]
  },
  {
   "cell_type": "code",
   "execution_count": null,
   "metadata": {},
   "outputs": [],
   "source": []
  }
 ],
 "metadata": {
  "kernelspec": {
   "display_name": "Churn_Analysis",
   "language": "python",
   "name": "churn_analysis"
  },
  "language_info": {
   "codemirror_mode": {
    "name": "ipython",
    "version": 3
   },
   "file_extension": ".py",
   "mimetype": "text/x-python",
   "name": "python",
   "nbconvert_exporter": "python",
   "pygments_lexer": "ipython3",
   "version": "3.7.7"
  }
 },
 "nbformat": 4,
 "nbformat_minor": 4
}
