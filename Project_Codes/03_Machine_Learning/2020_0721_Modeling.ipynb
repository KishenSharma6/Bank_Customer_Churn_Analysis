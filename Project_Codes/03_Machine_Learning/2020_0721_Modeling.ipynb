{
 "cells": [
  {
   "cell_type": "markdown",
   "metadata": {},
   "source": [
    "**Intro**"
   ]
  },
  {
   "cell_type": "markdown",
   "metadata": {},
   "source": [
    "In the following notebook, I will be creating a churn predictor for our bank "
   ]
  },
  {
   "cell_type": "markdown",
   "metadata": {},
   "source": [
    "**Read in libraries**"
   ]
  },
  {
   "cell_type": "code",
   "execution_count": 2,
   "metadata": {},
   "outputs": [],
   "source": [
    "import pandas as pd\n",
    "import numpy as np\n",
    "import matplotlib.pyplot as plt"
   ]
  },
  {
   "cell_type": "markdown",
   "metadata": {},
   "source": [
    "**Set Notebook Preferences**"
   ]
  },
  {
   "cell_type": "code",
   "execution_count": 3,
   "metadata": {},
   "outputs": [],
   "source": [
    "#Set pandas preferences\n",
    "pd.set_option('display.max_columns', 500)\n",
    "\n",
    "#Set plot style\n",
    "plt.style.use('Solarize_Light2')\n",
    "\n",
    "#Set path to draw_data\n",
    "path = r'C:\\Users\\kishe\\Documents\\Data Science\\Projects\\Python Projects\\In Progress\\Bank Churn Analysis\\Data\\02_Cleaned_Data'"
   ]
  },
  {
   "cell_type": "markdown",
   "metadata": {},
   "source": [
    "**Read in data**"
   ]
  },
  {
   "cell_type": "code",
   "execution_count": 4,
   "metadata": {},
   "outputs": [],
   "source": [
    "df = pd.read_csv(path + '/2020_0720_Cleaned_Churn_Date.csv', index_col=0)"
   ]
  },
  {
   "cell_type": "markdown",
   "metadata": {},
   "source": [
    "## Data Overview"
   ]
  },
  {
   "cell_type": "markdown",
   "metadata": {},
   "source": [
    "**Preview data**"
   ]
  },
  {
   "cell_type": "code",
   "execution_count": 5,
   "metadata": {},
   "outputs": [
    {
     "name": "stdout",
     "output_type": "stream",
     "text": [
      "Data shape: (10000, 11)\n"
     ]
    },
    {
     "data": {
      "text/html": [
       "<div>\n",
       "<style scoped>\n",
       "    .dataframe tbody tr th:only-of-type {\n",
       "        vertical-align: middle;\n",
       "    }\n",
       "\n",
       "    .dataframe tbody tr th {\n",
       "        vertical-align: top;\n",
       "    }\n",
       "\n",
       "    .dataframe thead th {\n",
       "        text-align: right;\n",
       "    }\n",
       "</style>\n",
       "<table border=\"1\" class=\"dataframe\">\n",
       "  <thead>\n",
       "    <tr style=\"text-align: right;\">\n",
       "      <th></th>\n",
       "      <th>creditscore</th>\n",
       "      <th>geography</th>\n",
       "      <th>gender</th>\n",
       "      <th>age</th>\n",
       "      <th>tenure</th>\n",
       "      <th>balance</th>\n",
       "      <th>numofproducts</th>\n",
       "      <th>hascrcard</th>\n",
       "      <th>isactivemember</th>\n",
       "      <th>estimatedsalary</th>\n",
       "      <th>exited</th>\n",
       "    </tr>\n",
       "  </thead>\n",
       "  <tbody>\n",
       "    <tr>\n",
       "      <th>0</th>\n",
       "      <td>619</td>\n",
       "      <td>France</td>\n",
       "      <td>0</td>\n",
       "      <td>42</td>\n",
       "      <td>2</td>\n",
       "      <td>0.00</td>\n",
       "      <td>1</td>\n",
       "      <td>1</td>\n",
       "      <td>1</td>\n",
       "      <td>101348.88</td>\n",
       "      <td>1</td>\n",
       "    </tr>\n",
       "    <tr>\n",
       "      <th>1</th>\n",
       "      <td>608</td>\n",
       "      <td>Spain</td>\n",
       "      <td>0</td>\n",
       "      <td>41</td>\n",
       "      <td>1</td>\n",
       "      <td>83807.86</td>\n",
       "      <td>1</td>\n",
       "      <td>0</td>\n",
       "      <td>1</td>\n",
       "      <td>112542.58</td>\n",
       "      <td>0</td>\n",
       "    </tr>\n",
       "    <tr>\n",
       "      <th>2</th>\n",
       "      <td>502</td>\n",
       "      <td>France</td>\n",
       "      <td>0</td>\n",
       "      <td>42</td>\n",
       "      <td>8</td>\n",
       "      <td>159660.80</td>\n",
       "      <td>3</td>\n",
       "      <td>1</td>\n",
       "      <td>0</td>\n",
       "      <td>113931.57</td>\n",
       "      <td>1</td>\n",
       "    </tr>\n",
       "    <tr>\n",
       "      <th>3</th>\n",
       "      <td>699</td>\n",
       "      <td>France</td>\n",
       "      <td>0</td>\n",
       "      <td>39</td>\n",
       "      <td>1</td>\n",
       "      <td>0.00</td>\n",
       "      <td>2</td>\n",
       "      <td>0</td>\n",
       "      <td>0</td>\n",
       "      <td>93826.63</td>\n",
       "      <td>0</td>\n",
       "    </tr>\n",
       "    <tr>\n",
       "      <th>4</th>\n",
       "      <td>850</td>\n",
       "      <td>Spain</td>\n",
       "      <td>0</td>\n",
       "      <td>43</td>\n",
       "      <td>2</td>\n",
       "      <td>125510.82</td>\n",
       "      <td>1</td>\n",
       "      <td>1</td>\n",
       "      <td>1</td>\n",
       "      <td>79084.10</td>\n",
       "      <td>0</td>\n",
       "    </tr>\n",
       "  </tbody>\n",
       "</table>\n",
       "</div>"
      ],
      "text/plain": [
       "   creditscore geography  gender  age  tenure    balance  numofproducts  \\\n",
       "0          619    France       0   42       2       0.00              1   \n",
       "1          608     Spain       0   41       1   83807.86              1   \n",
       "2          502    France       0   42       8  159660.80              3   \n",
       "3          699    France       0   39       1       0.00              2   \n",
       "4          850     Spain       0   43       2  125510.82              1   \n",
       "\n",
       "   hascrcard  isactivemember  estimatedsalary  exited  \n",
       "0          1               1        101348.88       1  \n",
       "1          0               1        112542.58       0  \n",
       "2          1               0        113931.57       1  \n",
       "3          0               0         93826.63       0  \n",
       "4          1               1         79084.10       0  "
      ]
     },
     "metadata": {},
     "output_type": "display_data"
    }
   ],
   "source": [
    "#Display data shape and head\n",
    "print('Data shape:', df.shape)\n",
    "display(df.head())\n"
   ]
  },
  {
   "cell_type": "markdown",
   "metadata": {},
   "source": [
    "**About the data - Info**"
   ]
  },
  {
   "cell_type": "code",
   "execution_count": 6,
   "metadata": {},
   "outputs": [
    {
     "name": "stdout",
     "output_type": "stream",
     "text": [
      "<class 'pandas.core.frame.DataFrame'>\n",
      "Int64Index: 10000 entries, 0 to 9999\n",
      "Data columns (total 11 columns):\n",
      " #   Column           Non-Null Count  Dtype  \n",
      "---  ------           --------------  -----  \n",
      " 0   creditscore      10000 non-null  int64  \n",
      " 1   geography        10000 non-null  object \n",
      " 2   gender           10000 non-null  int64  \n",
      " 3   age              10000 non-null  int64  \n",
      " 4   tenure           10000 non-null  int64  \n",
      " 5   balance          10000 non-null  float64\n",
      " 6   numofproducts    10000 non-null  int64  \n",
      " 7   hascrcard        10000 non-null  int64  \n",
      " 8   isactivemember   10000 non-null  int64  \n",
      " 9   estimatedsalary  10000 non-null  float64\n",
      " 10  exited           10000 non-null  int64  \n",
      "dtypes: float64(2), int64(8), object(1)\n",
      "memory usage: 937.5+ KB\n"
     ]
    }
   ],
   "source": [
    "df.info()"
   ]
  },
  {
   "cell_type": "markdown",
   "metadata": {},
   "source": [
    "**About the data - Description Statistics**"
   ]
  },
  {
   "cell_type": "code",
   "execution_count": 7,
   "metadata": {},
   "outputs": [
    {
     "data": {
      "text/html": [
       "<div>\n",
       "<style scoped>\n",
       "    .dataframe tbody tr th:only-of-type {\n",
       "        vertical-align: middle;\n",
       "    }\n",
       "\n",
       "    .dataframe tbody tr th {\n",
       "        vertical-align: top;\n",
       "    }\n",
       "\n",
       "    .dataframe thead th {\n",
       "        text-align: right;\n",
       "    }\n",
       "</style>\n",
       "<table border=\"1\" class=\"dataframe\">\n",
       "  <thead>\n",
       "    <tr style=\"text-align: right;\">\n",
       "      <th></th>\n",
       "      <th>creditscore</th>\n",
       "      <th>gender</th>\n",
       "      <th>age</th>\n",
       "      <th>tenure</th>\n",
       "      <th>balance</th>\n",
       "      <th>numofproducts</th>\n",
       "      <th>hascrcard</th>\n",
       "      <th>isactivemember</th>\n",
       "      <th>estimatedsalary</th>\n",
       "      <th>exited</th>\n",
       "    </tr>\n",
       "  </thead>\n",
       "  <tbody>\n",
       "    <tr>\n",
       "      <th>count</th>\n",
       "      <td>10000.000000</td>\n",
       "      <td>10000.000000</td>\n",
       "      <td>10000.000000</td>\n",
       "      <td>10000.000000</td>\n",
       "      <td>10000.000000</td>\n",
       "      <td>10000.000000</td>\n",
       "      <td>10000.00000</td>\n",
       "      <td>10000.000000</td>\n",
       "      <td>10000.000000</td>\n",
       "      <td>10000.000000</td>\n",
       "    </tr>\n",
       "    <tr>\n",
       "      <th>mean</th>\n",
       "      <td>650.528800</td>\n",
       "      <td>0.545700</td>\n",
       "      <td>38.921800</td>\n",
       "      <td>5.012800</td>\n",
       "      <td>76485.889288</td>\n",
       "      <td>1.530200</td>\n",
       "      <td>0.70550</td>\n",
       "      <td>0.515100</td>\n",
       "      <td>100090.239881</td>\n",
       "      <td>0.203700</td>\n",
       "    </tr>\n",
       "    <tr>\n",
       "      <th>std</th>\n",
       "      <td>96.653299</td>\n",
       "      <td>0.497932</td>\n",
       "      <td>10.487806</td>\n",
       "      <td>2.892174</td>\n",
       "      <td>62397.405202</td>\n",
       "      <td>0.581654</td>\n",
       "      <td>0.45584</td>\n",
       "      <td>0.499797</td>\n",
       "      <td>57510.492818</td>\n",
       "      <td>0.402769</td>\n",
       "    </tr>\n",
       "    <tr>\n",
       "      <th>min</th>\n",
       "      <td>350.000000</td>\n",
       "      <td>0.000000</td>\n",
       "      <td>18.000000</td>\n",
       "      <td>0.000000</td>\n",
       "      <td>0.000000</td>\n",
       "      <td>1.000000</td>\n",
       "      <td>0.00000</td>\n",
       "      <td>0.000000</td>\n",
       "      <td>11.580000</td>\n",
       "      <td>0.000000</td>\n",
       "    </tr>\n",
       "    <tr>\n",
       "      <th>25%</th>\n",
       "      <td>584.000000</td>\n",
       "      <td>0.000000</td>\n",
       "      <td>32.000000</td>\n",
       "      <td>3.000000</td>\n",
       "      <td>0.000000</td>\n",
       "      <td>1.000000</td>\n",
       "      <td>0.00000</td>\n",
       "      <td>0.000000</td>\n",
       "      <td>51002.110000</td>\n",
       "      <td>0.000000</td>\n",
       "    </tr>\n",
       "    <tr>\n",
       "      <th>50%</th>\n",
       "      <td>652.000000</td>\n",
       "      <td>1.000000</td>\n",
       "      <td>37.000000</td>\n",
       "      <td>5.000000</td>\n",
       "      <td>97198.540000</td>\n",
       "      <td>1.000000</td>\n",
       "      <td>1.00000</td>\n",
       "      <td>1.000000</td>\n",
       "      <td>100193.915000</td>\n",
       "      <td>0.000000</td>\n",
       "    </tr>\n",
       "    <tr>\n",
       "      <th>75%</th>\n",
       "      <td>718.000000</td>\n",
       "      <td>1.000000</td>\n",
       "      <td>44.000000</td>\n",
       "      <td>7.000000</td>\n",
       "      <td>127644.240000</td>\n",
       "      <td>2.000000</td>\n",
       "      <td>1.00000</td>\n",
       "      <td>1.000000</td>\n",
       "      <td>149388.247500</td>\n",
       "      <td>0.000000</td>\n",
       "    </tr>\n",
       "    <tr>\n",
       "      <th>max</th>\n",
       "      <td>850.000000</td>\n",
       "      <td>1.000000</td>\n",
       "      <td>92.000000</td>\n",
       "      <td>10.000000</td>\n",
       "      <td>250898.090000</td>\n",
       "      <td>4.000000</td>\n",
       "      <td>1.00000</td>\n",
       "      <td>1.000000</td>\n",
       "      <td>199992.480000</td>\n",
       "      <td>1.000000</td>\n",
       "    </tr>\n",
       "  </tbody>\n",
       "</table>\n",
       "</div>"
      ],
      "text/plain": [
       "        creditscore        gender           age        tenure        balance  \\\n",
       "count  10000.000000  10000.000000  10000.000000  10000.000000   10000.000000   \n",
       "mean     650.528800      0.545700     38.921800      5.012800   76485.889288   \n",
       "std       96.653299      0.497932     10.487806      2.892174   62397.405202   \n",
       "min      350.000000      0.000000     18.000000      0.000000       0.000000   \n",
       "25%      584.000000      0.000000     32.000000      3.000000       0.000000   \n",
       "50%      652.000000      1.000000     37.000000      5.000000   97198.540000   \n",
       "75%      718.000000      1.000000     44.000000      7.000000  127644.240000   \n",
       "max      850.000000      1.000000     92.000000     10.000000  250898.090000   \n",
       "\n",
       "       numofproducts    hascrcard  isactivemember  estimatedsalary  \\\n",
       "count   10000.000000  10000.00000    10000.000000     10000.000000   \n",
       "mean        1.530200      0.70550        0.515100    100090.239881   \n",
       "std         0.581654      0.45584        0.499797     57510.492818   \n",
       "min         1.000000      0.00000        0.000000        11.580000   \n",
       "25%         1.000000      0.00000        0.000000     51002.110000   \n",
       "50%         1.000000      1.00000        1.000000    100193.915000   \n",
       "75%         2.000000      1.00000        1.000000    149388.247500   \n",
       "max         4.000000      1.00000        1.000000    199992.480000   \n",
       "\n",
       "             exited  \n",
       "count  10000.000000  \n",
       "mean       0.203700  \n",
       "std        0.402769  \n",
       "min        0.000000  \n",
       "25%        0.000000  \n",
       "50%        0.000000  \n",
       "75%        0.000000  \n",
       "max        1.000000  "
      ]
     },
     "execution_count": 7,
     "metadata": {},
     "output_type": "execute_result"
    }
   ],
   "source": [
    "df.describe()"
   ]
  },
  {
   "cell_type": "markdown",
   "metadata": {},
   "source": [
    "# Machine Learning"
   ]
  },
  {
   "cell_type": "markdown",
   "metadata": {},
   "source": [
    "## Prepare data"
   ]
  },
  {
   "cell_type": "markdown",
   "metadata": {},
   "source": [
    "**Split data**"
   ]
  },
  {
   "cell_type": "code",
   "execution_count": 8,
   "metadata": {},
   "outputs": [
    {
     "name": "stdout",
     "output_type": "stream",
     "text": [
      "Training data shape:(7000, 10) Label shape:(7000,)\n",
      "Test data shape:(3000, 10) Label shape:(3000,)\n"
     ]
    }
   ],
   "source": [
    "#Read in library\n",
    "from sklearn.model_selection import train_test_split\n",
    "\n",
    "#Seperate train/test data from target\n",
    "X = df.drop('exited', axis = 1)\n",
    "y = df.exited.values\n",
    "\n",
    "#Split into training and test data\n",
    "X_train, X_test, y_train, y_test = train_test_split(X, y, random_state = 42, test_size =0.3, shuffle = False )\n",
    "\n",
    "#Check\n",
    "print('Training data shape:{} Label shape:{}'.format(X_train.shape, y_train.shape))\n",
    "print('Test data shape:{} Label shape:{}'.format(X_test.shape, y_test.shape))"
   ]
  },
  {
   "cell_type": "markdown",
   "metadata": {},
   "source": [
    "## Develop Preprocessing Pipeline"
   ]
  },
  {
   "cell_type": "code",
   "execution_count": 9,
   "metadata": {},
   "outputs": [],
   "source": [
    "#Read in libraries\n",
    "from sklearn.pipeline import Pipeline\n",
    "from sklearn.compose import ColumnTransformer\n",
    "from sklearn.preprocessing import OneHotEncoder, MinMaxScaler\n",
    "from sklearn.model_selection import cross_val_predict\n",
    "\n",
    "#Get names of numeric/categorical features\n",
    "num_features = X_train.select_dtypes(include = ['int64', 'float64']).columns\n",
    "cat_features = X_train.select_dtypes(include = ['object']).columns\n",
    "\n",
    "#Init steps for column transformera\n",
    "num_transformer = Pipeline([('scaler', MinMaxScaler())])\n",
    "cat_transformer = Pipeline([('onehot', OneHotEncoder(handle_unknown='ignore'))])\n",
    "\n",
    "#Build preprecessor\n",
    "preprocessor = ColumnTransformer(transformers=[('numerics', num_transformer, num_features),\n",
    "                                              ('categoricals', cat_transformer, cat_features)],\n",
    "                                n_jobs=-1)\n",
    "\n",
    "#Build initial pipeline\n",
    "classifier = Pipeline([('Preprocessor', preprocessor)])"
   ]
  },
  {
   "cell_type": "markdown",
   "metadata": {},
   "source": [
    "## Build Base Model - Naive Bayes Classifier"
   ]
  },
  {
   "cell_type": "markdown",
   "metadata": {},
   "source": [
    "**Build base model and get predictions**"
   ]
  },
  {
   "cell_type": "code",
   "execution_count": 10,
   "metadata": {},
   "outputs": [],
   "source": [
    "#Import naive bayes\n",
    "from sklearn.naive_bayes import GaussianNB\n",
    "\n",
    "#Append GaussianNB to pipeline\n",
    "classifier.steps.append(['model', GaussianNB()])\n",
    "\n",
    "#Get predictions on training data\n",
    "predictions = cross_val_predict(classifier, X_train, y_train,  n_jobs=-1)"
   ]
  },
  {
   "cell_type": "markdown",
   "metadata": {},
   "source": [
    "**Evaluate base model**"
   ]
  },
  {
   "cell_type": "code",
   "execution_count": 11,
   "metadata": {},
   "outputs": [
    {
     "name": "stdout",
     "output_type": "stream",
     "text": [
      "Naive Bayes Classification Report: \n",
      "               precision    recall  f1-score   support\n",
      "\n",
      "           0       0.85      0.94      0.89      5557\n",
      "           1       0.61      0.36      0.45      1443\n",
      "\n",
      "    accuracy                           0.82      7000\n",
      "   macro avg       0.73      0.65      0.67      7000\n",
      "weighted avg       0.80      0.82      0.80      7000\n",
      "\n"
     ]
    }
   ],
   "source": [
    "#Import classification report\n",
    "from sklearn.metrics import classification_report, confusion_matrix\n",
    "\n",
    "#Evaluate\n",
    "print('Naive Bayes Classification Report: \\n',classification_report(y_train, predictions))"
   ]
  },
  {
   "cell_type": "markdown",
   "metadata": {},
   "source": [
    "## Model Selection\n",
    "\n",
    "Evaluate a series of additional models to later tune into final classifier.\n",
    "\n",
    "Goal is to optimize F-score"
   ]
  },
  {
   "cell_type": "code",
   "execution_count": 12,
   "metadata": {},
   "outputs": [],
   "source": [
    "#Read in classifiers\n",
    "from sklearn.neighbors import KNeighborsClassifier\n",
    "from sklearn.linear_model import LogisticRegression\n",
    "from sklearn.tree import DecisionTreeClassifier\n",
    "from sklearn.ensemble import RandomForestClassifier\n",
    "\n",
    "#Init classifiers\n",
    "classifiers = [KNeighborsClassifier(n_jobs=-1),\n",
    "LogisticRegression(n_jobs=-1,random_state = 24),\n",
    "DecisionTreeClassifier(max_depth=10, random_state = 24),\n",
    "RandomForestClassifier(max_depth=10, n_jobs=-1, random_state = 24)]\n",
    "\n",
    "#Init model names\n",
    "names= ['KNeighborsClassifier',\n",
    "        'LogisticRegression',\n",
    "'DecisionTreeClassifier',\n",
    "'RandomForestClassifier'\n",
    "    ]"
   ]
  },
  {
   "cell_type": "code",
   "execution_count": 13,
   "metadata": {},
   "outputs": [
    {
     "name": "stdout",
     "output_type": "stream",
     "text": [
      "KNeighborsClassifier Classification Report:\n",
      "               precision    recall  f1-score   support\n",
      "\n",
      "           0       0.84      0.94      0.89      5557\n",
      "           1       0.57      0.28      0.38      1443\n",
      "\n",
      "    accuracy                           0.81      7000\n",
      "   macro avg       0.70      0.61      0.63      7000\n",
      "weighted avg       0.78      0.81      0.78      7000\n",
      "\n",
      "===================================================\n",
      "LogisticRegression Classification Report:\n",
      "               precision    recall  f1-score   support\n",
      "\n",
      "           0       0.82      0.97      0.89      5557\n",
      "           1       0.61      0.20      0.30      1443\n",
      "\n",
      "    accuracy                           0.81      7000\n",
      "   macro avg       0.72      0.58      0.60      7000\n",
      "weighted avg       0.78      0.81      0.77      7000\n",
      "\n",
      "===================================================\n",
      "DecisionTreeClassifier Classification Report:\n",
      "               precision    recall  f1-score   support\n",
      "\n",
      "           0       0.87      0.93      0.90      5557\n",
      "           1       0.63      0.49      0.55      1443\n",
      "\n",
      "    accuracy                           0.84      7000\n",
      "   macro avg       0.75      0.71      0.73      7000\n",
      "weighted avg       0.83      0.84      0.83      7000\n",
      "\n",
      "===================================================\n",
      "RandomForestClassifier Classification Report:\n",
      "               precision    recall  f1-score   support\n",
      "\n",
      "           0       0.87      0.97      0.92      5557\n",
      "           1       0.79      0.43      0.56      1443\n",
      "\n",
      "    accuracy                           0.86      7000\n",
      "   macro avg       0.83      0.70      0.74      7000\n",
      "weighted avg       0.85      0.86      0.84      7000\n",
      "\n",
      "===================================================\n"
     ]
    }
   ],
   "source": [
    "#Write a for-loop that fits each model to the data and evaluated recall\n",
    "for name, model in zip(names, classifiers):\n",
    "    classifier.steps.pop(1) #Delete last step of pipe\n",
    "    classifier.steps.append([name,model]) # append new step of pipe\n",
    "    predictions = cross_val_predict(classifier, X_train, y_train, n_jobs=-1, cv = 5,)\n",
    "    print('{} Classification Report:\\n'.format(name), classification_report(y_train, predictions))\n",
    "    print('===================================================')"
   ]
  },
  {
   "cell_type": "markdown",
   "metadata": {},
   "source": [
    "## Tune RandomForest Classifier"
   ]
  },
  {
   "cell_type": "markdown",
   "metadata": {},
   "source": [
    "**Tune with GridSearchCV**"
   ]
  },
  {
   "cell_type": "code",
   "execution_count": 14,
   "metadata": {},
   "outputs": [
    {
     "name": "stdout",
     "output_type": "stream",
     "text": [
      "Params for RandomForestClassifier:\n",
      " {'bootstrap': True, 'ccp_alpha': 0.0, 'class_weight': None, 'criterion': 'gini', 'max_depth': None, 'max_features': 'auto', 'max_leaf_nodes': None, 'max_samples': None, 'min_impurity_decrease': 0.0, 'min_impurity_split': None, 'min_samples_leaf': 1, 'min_samples_split': 2, 'min_weight_fraction_leaf': 0.0, 'n_estimators': 100, 'n_jobs': None, 'oob_score': False, 'random_state': None, 'verbose': 0, 'warm_start': False}\n"
     ]
    }
   ],
   "source": [
    "#Import libraries\n",
    "from sklearn.model_selection import GridSearchCV\n",
    "from sklearn.metrics import f1_score, make_scorer, recall_score, precision_score\n",
    "\n",
    "#Get params from random forest\n",
    "print('Params for RandomForestClassifier:\\n',RandomForestClassifier().get_params())\n",
    "\n",
    "#Set params to test over for gridsearchCV\n",
    "params = {'model__random_state': [24],\n",
    "          'model__n_jobs': [-1],\n",
    "            'model__n_estimators': [150, 175, 200],\n",
    "          'model__max_depth': [6, 8,10],\n",
    "           'model__max_features':['auto', 'sqrt', 'log2']\n",
    "          }\n",
    "\n",
    "#Create scorer to optimize recall\n",
    "scorer = {'f1_score': make_scorer(f1_score),\n",
    "         'precision_score':make_scorer(precision_score),\n",
    "         'recall_score':make_scorer(recall_score)}\n",
    "\n",
    "#Update classifier\n",
    "classifier.steps.pop(1) #Delete last step of pipe\n",
    "classifier.steps.append(['model',RandomForestClassifier()]) #Append nRandomForestClassifier"
   ]
  },
  {
   "cell_type": "code",
   "execution_count": 15,
   "metadata": {},
   "outputs": [
    {
     "data": {
      "text/html": [
       "<div>\n",
       "<style scoped>\n",
       "    .dataframe tbody tr th:only-of-type {\n",
       "        vertical-align: middle;\n",
       "    }\n",
       "\n",
       "    .dataframe tbody tr th {\n",
       "        vertical-align: top;\n",
       "    }\n",
       "\n",
       "    .dataframe thead th {\n",
       "        text-align: right;\n",
       "    }\n",
       "</style>\n",
       "<table border=\"1\" class=\"dataframe\">\n",
       "  <thead>\n",
       "    <tr style=\"text-align: right;\">\n",
       "      <th></th>\n",
       "      <th>mean_fit_time</th>\n",
       "      <th>std_fit_time</th>\n",
       "      <th>mean_score_time</th>\n",
       "      <th>std_score_time</th>\n",
       "      <th>param_model__max_depth</th>\n",
       "      <th>param_model__max_features</th>\n",
       "      <th>param_model__n_estimators</th>\n",
       "      <th>param_model__n_jobs</th>\n",
       "      <th>param_model__random_state</th>\n",
       "      <th>params</th>\n",
       "      <th>split0_test_f1_score</th>\n",
       "      <th>split1_test_f1_score</th>\n",
       "      <th>split2_test_f1_score</th>\n",
       "      <th>split3_test_f1_score</th>\n",
       "      <th>split4_test_f1_score</th>\n",
       "      <th>mean_test_f1_score</th>\n",
       "      <th>std_test_f1_score</th>\n",
       "      <th>rank_test_f1_score</th>\n",
       "      <th>split0_test_precision_score</th>\n",
       "      <th>split1_test_precision_score</th>\n",
       "      <th>split2_test_precision_score</th>\n",
       "      <th>split3_test_precision_score</th>\n",
       "      <th>split4_test_precision_score</th>\n",
       "      <th>mean_test_precision_score</th>\n",
       "      <th>std_test_precision_score</th>\n",
       "      <th>rank_test_precision_score</th>\n",
       "      <th>split0_test_recall_score</th>\n",
       "      <th>split1_test_recall_score</th>\n",
       "      <th>split2_test_recall_score</th>\n",
       "      <th>split3_test_recall_score</th>\n",
       "      <th>split4_test_recall_score</th>\n",
       "      <th>mean_test_recall_score</th>\n",
       "      <th>std_test_recall_score</th>\n",
       "      <th>rank_test_recall_score</th>\n",
       "    </tr>\n",
       "  </thead>\n",
       "  <tbody>\n",
       "    <tr>\n",
       "      <th>1</th>\n",
       "      <td>1.075039</td>\n",
       "      <td>0.249723</td>\n",
       "      <td>0.324726</td>\n",
       "      <td>0.129620</td>\n",
       "      <td>6</td>\n",
       "      <td>auto</td>\n",
       "      <td>175</td>\n",
       "      <td>-1</td>\n",
       "      <td>24</td>\n",
       "      <td>{'model__max_depth': 6, 'model__max_features':...</td>\n",
       "      <td>0.502439</td>\n",
       "      <td>0.488998</td>\n",
       "      <td>0.542453</td>\n",
       "      <td>0.502304</td>\n",
       "      <td>0.492683</td>\n",
       "      <td>0.505775</td>\n",
       "      <td>0.019086</td>\n",
       "      <td>25</td>\n",
       "      <td>0.85124</td>\n",
       "      <td>0.833333</td>\n",
       "      <td>0.851852</td>\n",
       "      <td>0.746575</td>\n",
       "      <td>0.827869</td>\n",
       "      <td>0.822174</td>\n",
       "      <td>0.038981</td>\n",
       "      <td>7</td>\n",
       "      <td>0.356401</td>\n",
       "      <td>0.346021</td>\n",
       "      <td>0.397924</td>\n",
       "      <td>0.378472</td>\n",
       "      <td>0.350694</td>\n",
       "      <td>0.365903</td>\n",
       "      <td>0.019495</td>\n",
       "      <td>25</td>\n",
       "    </tr>\n",
       "    <tr>\n",
       "      <th>4</th>\n",
       "      <td>1.028752</td>\n",
       "      <td>0.067156</td>\n",
       "      <td>0.287737</td>\n",
       "      <td>0.092412</td>\n",
       "      <td>6</td>\n",
       "      <td>sqrt</td>\n",
       "      <td>175</td>\n",
       "      <td>-1</td>\n",
       "      <td>24</td>\n",
       "      <td>{'model__max_depth': 6, 'model__max_features':...</td>\n",
       "      <td>0.502439</td>\n",
       "      <td>0.488998</td>\n",
       "      <td>0.542453</td>\n",
       "      <td>0.502304</td>\n",
       "      <td>0.492683</td>\n",
       "      <td>0.505775</td>\n",
       "      <td>0.019086</td>\n",
       "      <td>25</td>\n",
       "      <td>0.85124</td>\n",
       "      <td>0.833333</td>\n",
       "      <td>0.851852</td>\n",
       "      <td>0.746575</td>\n",
       "      <td>0.827869</td>\n",
       "      <td>0.822174</td>\n",
       "      <td>0.038981</td>\n",
       "      <td>7</td>\n",
       "      <td>0.356401</td>\n",
       "      <td>0.346021</td>\n",
       "      <td>0.397924</td>\n",
       "      <td>0.378472</td>\n",
       "      <td>0.350694</td>\n",
       "      <td>0.365903</td>\n",
       "      <td>0.019495</td>\n",
       "      <td>25</td>\n",
       "    </tr>\n",
       "    <tr>\n",
       "      <th>7</th>\n",
       "      <td>0.939585</td>\n",
       "      <td>0.084206</td>\n",
       "      <td>0.245813</td>\n",
       "      <td>0.015806</td>\n",
       "      <td>6</td>\n",
       "      <td>log2</td>\n",
       "      <td>175</td>\n",
       "      <td>-1</td>\n",
       "      <td>24</td>\n",
       "      <td>{'model__max_depth': 6, 'model__max_features':...</td>\n",
       "      <td>0.502439</td>\n",
       "      <td>0.488998</td>\n",
       "      <td>0.542453</td>\n",
       "      <td>0.502304</td>\n",
       "      <td>0.492683</td>\n",
       "      <td>0.505775</td>\n",
       "      <td>0.019086</td>\n",
       "      <td>25</td>\n",
       "      <td>0.85124</td>\n",
       "      <td>0.833333</td>\n",
       "      <td>0.851852</td>\n",
       "      <td>0.746575</td>\n",
       "      <td>0.827869</td>\n",
       "      <td>0.822174</td>\n",
       "      <td>0.038981</td>\n",
       "      <td>7</td>\n",
       "      <td>0.356401</td>\n",
       "      <td>0.346021</td>\n",
       "      <td>0.397924</td>\n",
       "      <td>0.378472</td>\n",
       "      <td>0.350694</td>\n",
       "      <td>0.365903</td>\n",
       "      <td>0.019495</td>\n",
       "      <td>25</td>\n",
       "    </tr>\n",
       "    <tr>\n",
       "      <th>0</th>\n",
       "      <td>0.858878</td>\n",
       "      <td>0.142109</td>\n",
       "      <td>0.398353</td>\n",
       "      <td>0.060435</td>\n",
       "      <td>6</td>\n",
       "      <td>auto</td>\n",
       "      <td>150</td>\n",
       "      <td>-1</td>\n",
       "      <td>24</td>\n",
       "      <td>{'model__max_depth': 6, 'model__max_features':...</td>\n",
       "      <td>0.502439</td>\n",
       "      <td>0.492683</td>\n",
       "      <td>0.549296</td>\n",
       "      <td>0.498845</td>\n",
       "      <td>0.497561</td>\n",
       "      <td>0.508165</td>\n",
       "      <td>0.020802</td>\n",
       "      <td>22</td>\n",
       "      <td>0.85124</td>\n",
       "      <td>0.834711</td>\n",
       "      <td>0.854015</td>\n",
       "      <td>0.744828</td>\n",
       "      <td>0.836066</td>\n",
       "      <td>0.824172</td>\n",
       "      <td>0.040426</td>\n",
       "      <td>4</td>\n",
       "      <td>0.356401</td>\n",
       "      <td>0.349481</td>\n",
       "      <td>0.404844</td>\n",
       "      <td>0.375000</td>\n",
       "      <td>0.354167</td>\n",
       "      <td>0.367979</td>\n",
       "      <td>0.020373</td>\n",
       "      <td>22</td>\n",
       "    </tr>\n",
       "    <tr>\n",
       "      <th>3</th>\n",
       "      <td>0.927446</td>\n",
       "      <td>0.033513</td>\n",
       "      <td>0.316720</td>\n",
       "      <td>0.089882</td>\n",
       "      <td>6</td>\n",
       "      <td>sqrt</td>\n",
       "      <td>150</td>\n",
       "      <td>-1</td>\n",
       "      <td>24</td>\n",
       "      <td>{'model__max_depth': 6, 'model__max_features':...</td>\n",
       "      <td>0.502439</td>\n",
       "      <td>0.492683</td>\n",
       "      <td>0.549296</td>\n",
       "      <td>0.498845</td>\n",
       "      <td>0.497561</td>\n",
       "      <td>0.508165</td>\n",
       "      <td>0.020802</td>\n",
       "      <td>22</td>\n",
       "      <td>0.85124</td>\n",
       "      <td>0.834711</td>\n",
       "      <td>0.854015</td>\n",
       "      <td>0.744828</td>\n",
       "      <td>0.836066</td>\n",
       "      <td>0.824172</td>\n",
       "      <td>0.040426</td>\n",
       "      <td>4</td>\n",
       "      <td>0.356401</td>\n",
       "      <td>0.349481</td>\n",
       "      <td>0.404844</td>\n",
       "      <td>0.375000</td>\n",
       "      <td>0.354167</td>\n",
       "      <td>0.367979</td>\n",
       "      <td>0.020373</td>\n",
       "      <td>22</td>\n",
       "    </tr>\n",
       "  </tbody>\n",
       "</table>\n",
       "</div>"
      ],
      "text/plain": [
       "   mean_fit_time  std_fit_time  mean_score_time  std_score_time  \\\n",
       "1       1.075039      0.249723         0.324726        0.129620   \n",
       "4       1.028752      0.067156         0.287737        0.092412   \n",
       "7       0.939585      0.084206         0.245813        0.015806   \n",
       "0       0.858878      0.142109         0.398353        0.060435   \n",
       "3       0.927446      0.033513         0.316720        0.089882   \n",
       "\n",
       "  param_model__max_depth param_model__max_features param_model__n_estimators  \\\n",
       "1                      6                      auto                       175   \n",
       "4                      6                      sqrt                       175   \n",
       "7                      6                      log2                       175   \n",
       "0                      6                      auto                       150   \n",
       "3                      6                      sqrt                       150   \n",
       "\n",
       "  param_model__n_jobs param_model__random_state  \\\n",
       "1                  -1                        24   \n",
       "4                  -1                        24   \n",
       "7                  -1                        24   \n",
       "0                  -1                        24   \n",
       "3                  -1                        24   \n",
       "\n",
       "                                              params  split0_test_f1_score  \\\n",
       "1  {'model__max_depth': 6, 'model__max_features':...              0.502439   \n",
       "4  {'model__max_depth': 6, 'model__max_features':...              0.502439   \n",
       "7  {'model__max_depth': 6, 'model__max_features':...              0.502439   \n",
       "0  {'model__max_depth': 6, 'model__max_features':...              0.502439   \n",
       "3  {'model__max_depth': 6, 'model__max_features':...              0.502439   \n",
       "\n",
       "   split1_test_f1_score  split2_test_f1_score  split3_test_f1_score  \\\n",
       "1              0.488998              0.542453              0.502304   \n",
       "4              0.488998              0.542453              0.502304   \n",
       "7              0.488998              0.542453              0.502304   \n",
       "0              0.492683              0.549296              0.498845   \n",
       "3              0.492683              0.549296              0.498845   \n",
       "\n",
       "   split4_test_f1_score  mean_test_f1_score  std_test_f1_score  \\\n",
       "1              0.492683            0.505775           0.019086   \n",
       "4              0.492683            0.505775           0.019086   \n",
       "7              0.492683            0.505775           0.019086   \n",
       "0              0.497561            0.508165           0.020802   \n",
       "3              0.497561            0.508165           0.020802   \n",
       "\n",
       "   rank_test_f1_score  split0_test_precision_score  \\\n",
       "1                  25                      0.85124   \n",
       "4                  25                      0.85124   \n",
       "7                  25                      0.85124   \n",
       "0                  22                      0.85124   \n",
       "3                  22                      0.85124   \n",
       "\n",
       "   split1_test_precision_score  split2_test_precision_score  \\\n",
       "1                     0.833333                     0.851852   \n",
       "4                     0.833333                     0.851852   \n",
       "7                     0.833333                     0.851852   \n",
       "0                     0.834711                     0.854015   \n",
       "3                     0.834711                     0.854015   \n",
       "\n",
       "   split3_test_precision_score  split4_test_precision_score  \\\n",
       "1                     0.746575                     0.827869   \n",
       "4                     0.746575                     0.827869   \n",
       "7                     0.746575                     0.827869   \n",
       "0                     0.744828                     0.836066   \n",
       "3                     0.744828                     0.836066   \n",
       "\n",
       "   mean_test_precision_score  std_test_precision_score  \\\n",
       "1                   0.822174                  0.038981   \n",
       "4                   0.822174                  0.038981   \n",
       "7                   0.822174                  0.038981   \n",
       "0                   0.824172                  0.040426   \n",
       "3                   0.824172                  0.040426   \n",
       "\n",
       "   rank_test_precision_score  split0_test_recall_score  \\\n",
       "1                          7                  0.356401   \n",
       "4                          7                  0.356401   \n",
       "7                          7                  0.356401   \n",
       "0                          4                  0.356401   \n",
       "3                          4                  0.356401   \n",
       "\n",
       "   split1_test_recall_score  split2_test_recall_score  \\\n",
       "1                  0.346021                  0.397924   \n",
       "4                  0.346021                  0.397924   \n",
       "7                  0.346021                  0.397924   \n",
       "0                  0.349481                  0.404844   \n",
       "3                  0.349481                  0.404844   \n",
       "\n",
       "   split3_test_recall_score  split4_test_recall_score  mean_test_recall_score  \\\n",
       "1                  0.378472                  0.350694                0.365903   \n",
       "4                  0.378472                  0.350694                0.365903   \n",
       "7                  0.378472                  0.350694                0.365903   \n",
       "0                  0.375000                  0.354167                0.367979   \n",
       "3                  0.375000                  0.354167                0.367979   \n",
       "\n",
       "   std_test_recall_score  rank_test_recall_score  \n",
       "1               0.019495                      25  \n",
       "4               0.019495                      25  \n",
       "7               0.019495                      25  \n",
       "0               0.020373                      22  \n",
       "3               0.020373                      22  "
      ]
     },
     "metadata": {},
     "output_type": "display_data"
    }
   ],
   "source": [
    "#Init GridSearchCV to test params on training data\n",
    "clf = GridSearchCV(classifier, param_grid=params, n_jobs=-1, cv=5, scoring=scorer, refit='f1_score')\n",
    "clf.fit(X_train, y_train)\n",
    "\n",
    "#Store cv_results_ and sort by mean_test_recall_score\n",
    "grid_results = pd.DataFrame(clf.cv_results_)\n",
    "grid_results.sort_values(by = 'mean_test_f1_score', inplace=True)\n",
    "display(grid_results.head())"
   ]
  },
  {
   "cell_type": "code",
   "execution_count": 16,
   "metadata": {},
   "outputs": [
    {
     "name": "stdout",
     "output_type": "stream",
     "text": [
      "Best f1 Score: 0.56\n",
      "Best Precision Score: 0.83\n",
      "Best Recall Score: 0.43\n"
     ]
    }
   ],
   "source": [
    "print('Best f1 Score: {}'.format(round(grid_results.mean_test_f1_score.max(),2)))\n",
    "print('Best Precision Score: {}'.format(round(grid_results.mean_test_precision_score.max(),2)))\n",
    "print('Best Recall Score: {}'.format(round(grid_results.mean_test_recall_score.max(),2)))"
   ]
  },
  {
   "cell_type": "code",
   "execution_count": 17,
   "metadata": {},
   "outputs": [
    {
     "name": "stdout",
     "output_type": "stream",
     "text": [
      "Best params for RandomForestClassifier:\n",
      "{'model__max_depth': 10, 'model__max_features': 'auto', 'model__n_estimators': 175, 'model__n_jobs': -1, 'model__random_state': 24}\n"
     ]
    }
   ],
   "source": [
    "#Store best estimator\n",
    "tuned_forest = clf.best_estimator_\n",
    "\n",
    "#Viewparams of best estimator\n",
    "print('Best params for RandomForestClassifier:\\n{}'.format(clf.best_params_))"
   ]
  },
  {
   "cell_type": "markdown",
   "metadata": {},
   "source": [
    "**Plot precision recall curve**"
   ]
  },
  {
   "cell_type": "code",
   "execution_count": 46,
   "metadata": {},
   "outputs": [
    {
     "data": {
      "text/plain": [
       "<matplotlib.legend.Legend at 0x242f8fb4608>"
      ]
     },
     "execution_count": 46,
     "metadata": {},
     "output_type": "execute_result"
    },
    {
     "data": {
      "image/png": "[encoded data removed]",
      "text/plain": [
       "<Figure size 1440x720 with 2 Axes>"
      ]
     },
     "metadata": {},
     "output_type": "display_data"
    }
   ],
   "source": [
    "#Read in libraries\n",
    "from sklearn.metrics import precision_recall_curve, roc_auc_score, roc_curve\n",
    "\n",
    "#Create figure\n",
    "f, ax = plt.subplots(1,2,figsize = (20,10))\n",
    "\n",
    "\n",
    "#Get precision,recall, and threshold data for plot\n",
    "precision, recall, thresholds = precision_recall_curve(y_train, tuned_forest.predict_proba(X_train)[:,1])\n",
    "\n",
    "#Plot precision recall curve of tuned_forest\n",
    "ax[0].plot(precision, recall, label = 'Tuned Random Forest', linewidth = 2)\n",
    "\n",
    "#Plot threshold = .5\n",
    "thresh_default = np.argmin(np.abs(thresholds - .5))\n",
    "ax[0].plot(precision[thresh_default], recall[thresh_default], 'o', markersize = 10, markeredgecolor = 'red', color = 'none')\n",
    "\n",
    "#Set plot aesthetics\n",
    "ax[0].set_title('Precision Recall Curve')\n",
    "ax[0].set_xlabel('Precision')\n",
    "ax[0].set_ylabel('Recall')\n",
    "ax[0].legend(['Random Forest Classifier', 'Threshold Zero', 'Threshold = 0.33'], frameon = True, shadow = True, loc = 'lower left')\n",
    "\n",
    "\n",
    "\n",
    "#Get fpr, tpr for plotting roc_curve\n",
    "fpr, tpr, threshold = roc_curve(y_train,tuned_forest.predict_proba(X_train)[:,1])\n",
    "#Plot threshold = .5\n",
    "thresh_roc_default = np.argmin(np.abs(threshold - .5))\n",
    "thresh_roc_new = np.argmin(np.abs(threshold - .25))\n",
    "\n",
    "ax[1].plot(fpr[thresh_roc_default], tpr[thresh_roc_default], 'o', markersize = 10, markeredgecolor = 'red', color = 'none')\n",
    "ax[1].plot(fpr[thresh_roc_new], tpr[thresh_roc_new], '^', markersize = 15, markeredgecolor = 'green', color = 'none')\n",
    "\n",
    "\n",
    "\n",
    "#Get AUC score\n",
    "auc_roc = roc_auc_score(y_train,tuned_forest.predict_proba(X_train)[:,1])\n",
    "\n",
    "#PLot ROC Curve\n",
    "ax[1].plot(fpr, tpr, label = 'AUC = {}'.format(round(auc_roc, 2)))\n",
    "\n",
    "#Set plot aesthetics\n",
    "ax[1].set_title('ROC Curve')\n",
    "ax[1].set_xlabel('False Positive Rate')\n",
    "ax[1].set_ylabel('True Positive Rate(Recall)')\n",
    "ax[1].legend(['Threshold Zero', 'Threshold .25','AUC: {}'.format(round(auc_roc,2)) ], frameon = True, shadow = True, loc = 'lower right')\n",
    "\n",
    "\n"
   ]
  },
  {
   "cell_type": "markdown",
   "metadata": {},
   "source": [
    "We'll want to decrease threshold to improve performance on recall for label 1"
   ]
  },
  {
   "cell_type": "code",
   "execution_count": 35,
   "metadata": {},
   "outputs": [
    {
     "name": "stdout",
     "output_type": "stream",
     "text": [
      "[[5067  490]\n",
      " [ 210 1233]]\n",
      "              precision    recall  f1-score   support\n",
      "\n",
      "           0       0.96      0.91      0.94      5557\n",
      "           1       0.72      0.85      0.78      1443\n",
      "\n",
      "    accuracy                           0.90      7000\n",
      "   macro avg       0.84      0.88      0.86      7000\n",
      "weighted avg       0.91      0.90      0.90      7000\n",
      "\n"
     ]
    }
   ],
   "source": [
    "#Set Threshold\n",
    "threshold = .25\n",
    "\n",
    "#Fit model to training data \n",
    "predictions = tuned_forest.predict_proba(X_train)[:,1] >= threshold\n",
    "\n",
    "print(confusion_matrix(y_train,predictions))\n",
    "print(classification_report(y_train,predictions))"
   ]
  },
  {
   "cell_type": "markdown",
   "metadata": {},
   "source": [
    "## Deploy on test data"
   ]
  },
  {
   "cell_type": "code",
   "execution_count": 36,
   "metadata": {},
   "outputs": [
    {
     "name": "stdout",
     "output_type": "stream",
     "text": [
      "[[2089  317]\n",
      " [ 186  408]]\n",
      "              precision    recall  f1-score   support\n",
      "\n",
      "           0       0.92      0.87      0.89      2406\n",
      "           1       0.56      0.69      0.62       594\n",
      "\n",
      "    accuracy                           0.83      3000\n",
      "   macro avg       0.74      0.78      0.76      3000\n",
      "weighted avg       0.85      0.83      0.84      3000\n",
      "\n"
     ]
    }
   ],
   "source": [
    "#Fit model to test data \n",
    "predictions = tuned_forest.predict_proba(X_test)[:,1] >= threshold\n",
    "\n",
    "#Print results\n",
    "print(confusion_matrix(y_test,predictions))\n",
    "print(classification_report(y_test,predictions))"
   ]
  },
  {
   "cell_type": "markdown",
   "metadata": {},
   "source": [
    "**Extracting Feature Importance**"
   ]
  },
  {
   "cell_type": "code",
   "execution_count": 21,
   "metadata": {},
   "outputs": [
    {
     "data": {
      "text/plain": [
       "<matplotlib.legend.Legend at 0x242f3af6148>"
      ]
     },
     "execution_count": 21,
     "metadata": {},
     "output_type": "execute_result"
    },
    {
     "data": {
      "image/png": "[encoded data removed]",
      "text/plain": [
       "<Figure size 576x432 with 1 Axes>"
      ]
     },
     "metadata": {},
     "output_type": "display_data"
    }
   ],
   "source": [
    "#Get transformed feature names and convert to list\n",
    "new_cat_features = list(tuned_forest['Preprocessor'].transformers_[1][1]['onehot'].get_feature_names(cat_features))\n",
    "\n",
    "#Convert num_features to list and assign to features\n",
    "features = list(num_features)\n",
    "\n",
    "#Extend features to include new_cat_features\n",
    "features.extend(new_cat_features)\n",
    "\n",
    "#Get feature importances and plot\n",
    "feat_imp = pd.DataFrame(tuned_forest['model'].feature_importances_, columns=['feat_import'], index = features)\n",
    "f, ax = plt.subplots(figsize = (8,6))\n",
    "feat_imp.sort_values(by='feat_import').plot(kind = 'barh', ax=ax)\n",
    "\n",
    "#Set plot aesthetics\n",
    "ax.set_title('Feature Importances')\n",
    "\n",
    "ax.legend(['Importance'], shadow=True, frameon = True)"
   ]
  }
 ],
 "metadata": {
  "kernelspec": {
   "display_name": "Churn_Analysis",
   "language": "python",
   "name": "churn_analysis"
  },
  "language_info": {
   "codemirror_mode": {
    "name": "ipython",
    "version": 3
   },
   "file_extension": ".py",
   "mimetype": "text/x-python",
   "name": "python",
   "nbconvert_exporter": "python",
   "pygments_lexer": "ipython3",
   "version": "3.7.7"
  }
 },
 "nbformat": 4,
 "nbformat_minor": 4
}
